{
 "cells": [
  {
   "attachments": {},
   "cell_type": "markdown",
   "metadata": {},
   "source": [
    "# Data-based analysis of Vienna's Airbnb listings\n",
    "This file was created in the course of my Udacity Data Scientist Nanodegree program. A data analysis on data from Airbnb is performed to gain insights into Vienna's Airbnb listings. Note that this notebook can be applied to data from other Airbnb locations as well, assuming that the data structure is similar. You can download latests datasets for other locations/cities from [Airbnb website](http://insideairbnb.com/get-the-data/).\n",
    "\n",
    "\n",
    "## Business Understanding\n",
    "\n",
    "This notebook was created in the course of my Udacity Data Scientist Nanodegree program. In this first project we were asked to analyze a dataset of our own choice. As a proud Austrian, I picked a data set related to Austria. I selected an Airbnb dataset regarding the available listings in Vienna and tried to answer the following questions:\n",
    "\n",
    "* Basic Listings Statistics: How many Airbnb listings are offered for Vienna, and how do they split up in private rooms, entire homes/apartments, hotel rooms and shared rooms? What is the price distribution across the room types?  \n",
    "\n",
    "* Hosts Statistics: How many hosts offer their listings on Airbnb? Are there more hosts which offer a single listing or hosts which offer multiple listings on Airbnb?  \n",
    "\n",
    "* Private vs. Professional Hosts: Are there any obvious differences in the listings attributes (e.g. prices, review ratings), comparing the single host listings with the listings from hosts with multiple offers?"
   ]
  },
  {
   "cell_type": "code",
   "execution_count": 78,
   "metadata": {},
   "outputs": [],
   "source": [
    "# import main libraries\n",
    "import pandas as pd\n",
    "import numpy as np\n",
    "import matplotlib.pyplot as plt\n",
    "import matplotlib\n",
    "import seaborn as sns\n",
    "import plotly.express as px\n",
    "import plotly.io as pio\n",
    "from plotly.subplots import make_subplots\n",
    "import plotly.graph_objects as go\n",
    "\n",
    "# plot and rendering settings\n",
    "pio.renderers.default = \"png\"\n",
    "%matplotlib notebook\n",
    "\n",
    "# optical benefits\n",
    "pd.set_option('float_format', '{:.2f}'.format)\n",
    "\n",
    "# ignore warnings\n",
    "import warnings\n",
    "warnings.filterwarnings(\"ignore\")"
   ]
  },
  {
   "attachments": {},
   "cell_type": "markdown",
   "metadata": {},
   "source": [
    "## Data Understanding"
   ]
  },
  {
   "cell_type": "code",
   "execution_count": 79,
   "metadata": {},
   "outputs": [],
   "source": [
    "# import data\n",
    "df_listings_details = pd.read_csv('./data/listings.csv.gz')"
   ]
  },
  {
   "cell_type": "code",
   "execution_count": 80,
   "metadata": {},
   "outputs": [
    {
     "name": "stdout",
     "output_type": "stream",
     "text": [
      "Number of Rows (number of listings): 11797\n",
      "Number of Columns: 75\n"
     ]
    }
   ],
   "source": [
    "# explore structure of the dataframe\n",
    "print('Number of Rows (number of listings):', df_listings_details.shape[0])\n",
    "print('Number of Columns:', df_listings_details.shape[1])"
   ]
  },
  {
   "cell_type": "code",
   "execution_count": 81,
   "metadata": {},
   "outputs": [
    {
     "data": {
      "text/plain": [
       "Index(['id', 'listing_url', 'scrape_id', 'last_scraped', 'source', 'name',\n",
       "       'description', 'neighborhood_overview', 'picture_url', 'host_id',\n",
       "       'host_url', 'host_name', 'host_since', 'host_location', 'host_about',\n",
       "       'host_response_time', 'host_response_rate', 'host_acceptance_rate',\n",
       "       'host_is_superhost', 'host_thumbnail_url', 'host_picture_url',\n",
       "       'host_neighbourhood', 'host_listings_count',\n",
       "       'host_total_listings_count', 'host_verifications',\n",
       "       'host_has_profile_pic', 'host_identity_verified', 'neighbourhood',\n",
       "       'neighbourhood_cleansed', 'neighbourhood_group_cleansed', 'latitude',\n",
       "       'longitude', 'property_type', 'room_type', 'accommodates', 'bathrooms',\n",
       "       'bathrooms_text', 'bedrooms', 'beds', 'amenities', 'price',\n",
       "       'minimum_nights', 'maximum_nights', 'minimum_minimum_nights',\n",
       "       'maximum_minimum_nights', 'minimum_maximum_nights',\n",
       "       'maximum_maximum_nights', 'minimum_nights_avg_ntm',\n",
       "       'maximum_nights_avg_ntm', 'calendar_updated', 'has_availability',\n",
       "       'availability_30', 'availability_60', 'availability_90',\n",
       "       'availability_365', 'calendar_last_scraped', 'number_of_reviews',\n",
       "       'number_of_reviews_ltm', 'number_of_reviews_l30d', 'first_review',\n",
       "       'last_review', 'review_scores_rating', 'review_scores_accuracy',\n",
       "       'review_scores_cleanliness', 'review_scores_checkin',\n",
       "       'review_scores_communication', 'review_scores_location',\n",
       "       'review_scores_value', 'license', 'instant_bookable',\n",
       "       'calculated_host_listings_count',\n",
       "       'calculated_host_listings_count_entire_homes',\n",
       "       'calculated_host_listings_count_private_rooms',\n",
       "       'calculated_host_listings_count_shared_rooms', 'reviews_per_month'],\n",
       "      dtype='object')"
      ]
     },
     "execution_count": 81,
     "metadata": {},
     "output_type": "execute_result"
    }
   ],
   "source": [
    "# print available columns\n",
    "df_listings_details.columns"
   ]
  },
  {
   "cell_type": "code",
   "execution_count": 107,
   "metadata": {},
   "outputs": [
    {
     "name": "stdout",
     "output_type": "stream",
     "text": [
      "<class 'pandas.core.frame.DataFrame'>\n",
      "RangeIndex: 11797 entries, 0 to 11796\n",
      "Data columns (total 75 columns):\n",
      " #   Column                                        Non-Null Count  Dtype  \n",
      "---  ------                                        --------------  -----  \n",
      " 0   id                                            11797 non-null  int64  \n",
      " 1   listing_url                                   11797 non-null  object \n",
      " 2   scrape_id                                     11797 non-null  int64  \n",
      " 3   last_scraped                                  11797 non-null  object \n",
      " 4   source                                        11797 non-null  object \n",
      " 5   name                                          11785 non-null  object \n",
      " 6   description                                   11550 non-null  object \n",
      " 7   neighborhood_overview                         6498 non-null   object \n",
      " 8   picture_url                                   11797 non-null  object \n",
      " 9   host_id                                       11797 non-null  int64  \n",
      " 10  host_url                                      11797 non-null  object \n",
      " 11  host_name                                     11795 non-null  object \n",
      " 12  host_since                                    11795 non-null  object \n",
      " 13  host_location                                 9529 non-null   object \n",
      " 14  host_about                                    6046 non-null   object \n",
      " 15  host_response_time                            8165 non-null   object \n",
      " 16  host_response_rate                            8165 non-null   object \n",
      " 17  host_acceptance_rate                          8567 non-null   object \n",
      " 18  host_is_superhost                             11795 non-null  object \n",
      " 19  host_thumbnail_url                            11795 non-null  object \n",
      " 20  host_picture_url                              11795 non-null  object \n",
      " 21  host_neighbourhood                            7036 non-null   object \n",
      " 22  host_listings_count                           11795 non-null  float64\n",
      " 23  host_total_listings_count                     11795 non-null  float64\n",
      " 24  host_verifications                            11797 non-null  object \n",
      " 25  host_has_profile_pic                          11795 non-null  object \n",
      " 26  host_identity_verified                        11795 non-null  object \n",
      " 27  neighbourhood                                 6498 non-null   object \n",
      " 28  neighbourhood_cleansed                        11797 non-null  object \n",
      " 29  neighbourhood_group_cleansed                  0 non-null      float64\n",
      " 30  latitude                                      11797 non-null  float64\n",
      " 31  longitude                                     11797 non-null  float64\n",
      " 32  property_type                                 11797 non-null  object \n",
      " 33  room_type                                     11797 non-null  object \n",
      " 34  accommodates                                  11797 non-null  int64  \n",
      " 35  bathrooms                                     0 non-null      float64\n",
      " 36  bathrooms_text                                11790 non-null  object \n",
      " 37  bedrooms                                      10648 non-null  float64\n",
      " 38  beds                                          11649 non-null  float64\n",
      " 39  amenities                                     11797 non-null  object \n",
      " 40  price                                         11797 non-null  float64\n",
      " 41  minimum_nights                                11797 non-null  int64  \n",
      " 42  maximum_nights                                11797 non-null  int64  \n",
      " 43  minimum_minimum_nights                        11797 non-null  int64  \n",
      " 44  maximum_minimum_nights                        11797 non-null  int64  \n",
      " 45  minimum_maximum_nights                        11797 non-null  int64  \n",
      " 46  maximum_maximum_nights                        11797 non-null  int64  \n",
      " 47  minimum_nights_avg_ntm                        11797 non-null  float64\n",
      " 48  maximum_nights_avg_ntm                        11797 non-null  float64\n",
      " 49  calendar_updated                              0 non-null      float64\n",
      " 50  has_availability                              11797 non-null  object \n",
      " 51  availability_30                               11797 non-null  int64  \n",
      " 52  availability_60                               11797 non-null  int64  \n",
      " 53  availability_90                               11797 non-null  int64  \n",
      " 54  availability_365                              11797 non-null  int64  \n",
      " 55  calendar_last_scraped                         11797 non-null  object \n",
      " 56  number_of_reviews                             11797 non-null  int64  \n",
      " 57  number_of_reviews_ltm                         11797 non-null  int64  \n",
      " 58  number_of_reviews_l30d                        11797 non-null  int64  \n",
      " 59  first_review                                  9869 non-null   object \n",
      " 60  last_review                                   9869 non-null   object \n",
      " 61  review_scores_rating                          9869 non-null   float64\n",
      " 62  review_scores_accuracy                        9774 non-null   float64\n",
      " 63  review_scores_cleanliness                     9774 non-null   float64\n",
      " 64  review_scores_checkin                         9774 non-null   float64\n",
      " 65  review_scores_communication                   9775 non-null   float64\n",
      " 66  review_scores_location                        9773 non-null   float64\n",
      " 67  review_scores_value                           9772 non-null   float64\n",
      " 68  license                                       0 non-null      float64\n",
      " 69  instant_bookable                              11797 non-null  object \n",
      " 70  calculated_host_listings_count                11797 non-null  int64  \n",
      " 71  calculated_host_listings_count_entire_homes   11797 non-null  int64  \n",
      " 72  calculated_host_listings_count_private_rooms  11797 non-null  int64  \n",
      " 73  calculated_host_listings_count_shared_rooms   11797 non-null  int64  \n",
      " 74  reviews_per_month                             9869 non-null   float64\n",
      "dtypes: float64(21), int64(21), object(33)\n",
      "memory usage: 6.8+ MB\n"
     ]
    }
   ],
   "source": [
    "# show basic info\n",
    "df_listings_details.info()"
   ]
  },
  {
   "cell_type": "code",
   "execution_count": 82,
   "metadata": {},
   "outputs": [
    {
     "data": {
      "text/plain": [
       "id                                              False\n",
       "listing_url                                     False\n",
       "scrape_id                                       False\n",
       "last_scraped                                    False\n",
       "source                                          False\n",
       "                                                ...  \n",
       "calculated_host_listings_count                  False\n",
       "calculated_host_listings_count_entire_homes     False\n",
       "calculated_host_listings_count_private_rooms    False\n",
       "calculated_host_listings_count_shared_rooms     False\n",
       "reviews_per_month                                True\n",
       "Length: 75, dtype: bool"
      ]
     },
     "execution_count": 82,
     "metadata": {},
     "output_type": "execute_result"
    }
   ],
   "source": [
    "# check for missing values\n",
    "df_listings_details.isna().any()"
   ]
  },
  {
   "attachments": {},
   "cell_type": "markdown",
   "metadata": {},
   "source": [
    "The dataframe has columns with missing values. We will take care about this later, if necessary."
   ]
  },
  {
   "cell_type": "code",
   "execution_count": 83,
   "metadata": {},
   "outputs": [
    {
     "data": {
      "text/html": [
       "<div>\n",
       "<style scoped>\n",
       "    .dataframe tbody tr th:only-of-type {\n",
       "        vertical-align: middle;\n",
       "    }\n",
       "\n",
       "    .dataframe tbody tr th {\n",
       "        vertical-align: top;\n",
       "    }\n",
       "\n",
       "    .dataframe thead th {\n",
       "        text-align: right;\n",
       "    }\n",
       "</style>\n",
       "<table border=\"1\" class=\"dataframe\">\n",
       "  <thead>\n",
       "    <tr style=\"text-align: right;\">\n",
       "      <th></th>\n",
       "      <th>count</th>\n",
       "      <th>unique</th>\n",
       "      <th>top</th>\n",
       "      <th>freq</th>\n",
       "    </tr>\n",
       "    <tr>\n",
       "      <th>room_type</th>\n",
       "      <th></th>\n",
       "      <th></th>\n",
       "      <th></th>\n",
       "      <th></th>\n",
       "    </tr>\n",
       "  </thead>\n",
       "  <tbody>\n",
       "    <tr>\n",
       "      <th>Entire home/apt</th>\n",
       "      <td>9090</td>\n",
       "      <td>405</td>\n",
       "      <td>$70.00</td>\n",
       "      <td>253</td>\n",
       "    </tr>\n",
       "    <tr>\n",
       "      <th>Hotel room</th>\n",
       "      <td>56</td>\n",
       "      <td>45</td>\n",
       "      <td>$110.00</td>\n",
       "      <td>3</td>\n",
       "    </tr>\n",
       "    <tr>\n",
       "      <th>Private room</th>\n",
       "      <td>2575</td>\n",
       "      <td>193</td>\n",
       "      <td>$30.00</td>\n",
       "      <td>157</td>\n",
       "    </tr>\n",
       "    <tr>\n",
       "      <th>Shared room</th>\n",
       "      <td>76</td>\n",
       "      <td>42</td>\n",
       "      <td>$30.00</td>\n",
       "      <td>7</td>\n",
       "    </tr>\n",
       "  </tbody>\n",
       "</table>\n",
       "</div>"
      ],
      "text/plain": [
       "                count unique      top freq\n",
       "room_type                                 \n",
       "Entire home/apt  9090    405   $70.00  253\n",
       "Hotel room         56     45  $110.00    3\n",
       "Private room     2575    193   $30.00  157\n",
       "Shared room        76     42   $30.00    7"
      ]
     },
     "execution_count": 83,
     "metadata": {},
     "output_type": "execute_result"
    }
   ],
   "source": [
    "# print price statistics for the room types\n",
    "df_listings_details.groupby('room_type')['price'].describe()"
   ]
  },
  {
   "attachments": {},
   "cell_type": "markdown",
   "metadata": {},
   "source": [
    "## Data Preparation"
   ]
  },
  {
   "cell_type": "code",
   "execution_count": 84,
   "metadata": {},
   "outputs": [],
   "source": [
    "# convert prices to float\n",
    "df_listings_details['price'] = df_listings_details['price'].str[1:].replace(',', '', regex=True).astype(float)"
   ]
  },
  {
   "attachments": {},
   "cell_type": "markdown",
   "metadata": {},
   "source": [
    "### Basic Listings Statistics"
   ]
  },
  {
   "cell_type": "code",
   "execution_count": 85,
   "metadata": {},
   "outputs": [
    {
     "name": "stdout",
     "output_type": "stream",
     "text": [
      "Room type missing values:  False\n",
      "Price missing values:  False\n"
     ]
    }
   ],
   "source": [
    "# check for missing values for basic listings statistics\n",
    "print('Room type missing values: ', df_listings_details['room_type'].isna().any())\n",
    "print('Price missing values: ', df_listings_details['price'].isna().any())"
   ]
  },
  {
   "cell_type": "code",
   "execution_count": 86,
   "metadata": {},
   "outputs": [],
   "source": [
    "# prepare data for basic listings statistics\n",
    "basic_listings_stats_series = df_listings_details['room_type'].value_counts()\n",
    "basic_listings_stats = pd.DataFrame({'Room Type': basic_listings_stats_series.index, 'Number of Listings': basic_listings_stats_series.values})"
   ]
  },
  {
   "cell_type": "code",
   "execution_count": 108,
   "metadata": {},
   "outputs": [],
   "source": [
    "# add percent columns to dataframe and show dataframe\n",
    "def calculate_perc(row):\n",
    "    \"\"\"Calculated the percentage value for the passed row \n",
    "\n",
    "    Input:\n",
    "        row: single row dataframe passed by the apply function\n",
    "\n",
    "    Output:\n",
    "        percentage value for the specific row\n",
    "    \"\"\"\n",
    "    return row['Number of Listings']/sum(basic_listings_stats['Number of Listings'])*100\n",
    "\n",
    "basic_listings_stats['Percent of Total'] = basic_listings_stats.apply(calculate_perc, axis=1)"
   ]
  },
  {
   "attachments": {},
   "cell_type": "markdown",
   "metadata": {},
   "source": [
    "### Host Statistics"
   ]
  },
  {
   "cell_type": "code",
   "execution_count": 88,
   "metadata": {},
   "outputs": [
    {
     "name": "stdout",
     "output_type": "stream",
     "text": [
      "Host ID missing values:  False\n",
      "Host listings count missing values:  False\n",
      "Room Type missing values:  False\n",
      "Prince missing values:  False\n"
     ]
    }
   ],
   "source": [
    "# check for missing for host statistics\n",
    "print('Host ID missing values: ', df_listings_details['host_id'].isna().any())\n",
    "print('Host listings count missing values: ', df_listings_details['calculated_host_listings_count'].isna().any())\n",
    "print('Room Type missing values: ', df_listings_details['room_type'].isna().any())\n",
    "print('Prince missing values: ', df_listings_details['price'].isna().any())"
   ]
  },
  {
   "cell_type": "code",
   "execution_count": 89,
   "metadata": {},
   "outputs": [],
   "source": [
    "# create dataframe for hosts statistics\n",
    "df_listings_counts = df_listings_details[['host_id', 'calculated_host_listings_count',\n",
    "       'calculated_host_listings_count_private_rooms',\n",
    "       'calculated_host_listings_count_entire_homes',\n",
    "       'calculated_host_listings_count_shared_rooms']].drop_duplicates()"
   ]
  },
  {
   "cell_type": "code",
   "execution_count": 90,
   "metadata": {},
   "outputs": [],
   "source": [
    "# create sorted dataframe for host statistics\n",
    "df_listings_counts_sorted = df_listings_counts.sort_values('calculated_host_listings_count', ascending=False)"
   ]
  },
  {
   "attachments": {},
   "cell_type": "markdown",
   "metadata": {},
   "source": [
    "### Private vs. Professional Hosts"
   ]
  },
  {
   "cell_type": "code",
   "execution_count": 91,
   "metadata": {},
   "outputs": [
    {
     "name": "stdout",
     "output_type": "stream",
     "text": [
      "Host ID missing values:  False\n",
      "Host listings count missing values:  False\n",
      "Room Type missing values:  False\n",
      "Prince missing values:  False\n",
      "Availability missing values:  False\n",
      "Number of reviews missing values:  False\n",
      "Minimum nights missing values:  False\n",
      "Maximum nights missing values:  False\n"
     ]
    }
   ],
   "source": [
    "# check for missing values for private vs professional analysis\n",
    "print('Host ID missing values: ', df_listings_details['host_id'].isna().any())\n",
    "print('Host listings count missing values: ', df_listings_details['calculated_host_listings_count'].isna().any())\n",
    "print('Room Type missing values: ', df_listings_details['room_type'].isna().any())\n",
    "print('Prince missing values: ', df_listings_details['price'].isna().any())\n",
    "print('Availability missing values: ', df_listings_details['availability_365'].isna().any())\n",
    "print('Number of reviews missing values: ', df_listings_details['number_of_reviews_ltm'].isna().any())\n",
    "print('Minimum nights missing values: ', df_listings_details['minimum_nights'].isna().any())\n",
    "print('Maximum nights missing values: ', df_listings_details['maximum_nights'].isna().any())"
   ]
  },
  {
   "cell_type": "code",
   "execution_count": 92,
   "metadata": {},
   "outputs": [],
   "source": [
    "# filter listings from private and professional hosts and entire home / department listings for private vs professional analysis\n",
    "professional_hosts = df_listings_details[(df_listings_details['calculated_host_listings_count'] >= 5) & (df_listings_details['room_type'] == 'Entire home/apt')]\n",
    "private_hosts = df_listings_details[(df_listings_details['calculated_host_listings_count'] == 1) & (df_listings_details['room_type'] == 'Entire home/apt')]\n",
    "#professional_hosts = df_listings_details[(df_listings_details['calculated_host_listings_count'] >= 5)]\n",
    "#private_hosts = df_listings_details[(df_listings_details['calculated_host_listings_count'] == 1)]"
   ]
  },
  {
   "cell_type": "code",
   "execution_count": 93,
   "metadata": {},
   "outputs": [],
   "source": [
    "# create dataframe for private vs professional analysis\n",
    "professional_vs_private = pd.DataFrame(columns=['metric', 'professional_hosts', 'private_hosts'])\n",
    "data = pd.DataFrame({'metric': ['number_of_hosts', 'total_listings', 'mean_price', 'mean_availability', 'review_scores_rating'],\n",
    "                        'professional_hosts': [professional_hosts['host_id'].nunique(), professional_hosts.shape[0], professional_hosts['price'].mean(), professional_hosts['availability_365'].mean(),  professional_hosts['review_scores_rating'].mean()],\n",
    "                        'private_hosts': [private_hosts['host_id'].nunique(), private_hosts.shape[0], private_hosts['price'].mean(), private_hosts['availability_365'].mean(), private_hosts['review_scores_rating'].mean()]}) \n",
    "\n",
    "professional_vs_private = pd.concat([professional_vs_private, data])"
   ]
  },
  {
   "attachments": {},
   "cell_type": "markdown",
   "metadata": {},
   "source": [
    "## Evaluation"
   ]
  },
  {
   "attachments": {},
   "cell_type": "markdown",
   "metadata": {},
   "source": [
    "### Basic Listings Statistics\n",
    "How many Airbnb listings are offered for Vienna, and how do they split up in private rooms, entire homes/apartments, hotel rooms and shared rooms? What is the price distribution across the room types?"
   ]
  },
  {
   "cell_type": "code",
   "execution_count": 94,
   "metadata": {},
   "outputs": [
    {
     "name": "stdout",
     "output_type": "stream",
     "text": [
      "Number of listings: 11797\n"
     ]
    }
   ],
   "source": [
    "# count number of listings\n",
    "print('Number of listings:', df_listings_details.shape[0])"
   ]
  },
  {
   "cell_type": "code",
   "execution_count": 95,
   "metadata": {},
   "outputs": [
    {
     "data": {
      "image/png": "[encoded data removed]"
     },
     "metadata": {},
     "output_type": "display_data"
    }
   ],
   "source": [
    "# plot price distribution\n",
    "fig = px.histogram(df_listings_details, x=\"price\", color=\"room_type\", barmode=\"overlay\", labels=dict(price=\"Price in €\", room_type=\"Room Type\"), width=800, height=400, nbins=2000)\n",
    "fig.update_xaxes(range=[0, 500])\n",
    "fig.show()"
   ]
  },
  {
   "cell_type": "code",
   "execution_count": 96,
   "metadata": {},
   "outputs": [
    {
     "data": {
      "text/plain": [
       "room_type\n",
       "Entire home/apt   105.16\n",
       "Hotel room        137.73\n",
       "Private room       60.10\n",
       "Shared room        43.24\n",
       "Name: price, dtype: float64"
      ]
     },
     "execution_count": 96,
     "metadata": {},
     "output_type": "execute_result"
    }
   ],
   "source": [
    "# show mean prices for each room type\n",
    "df_listings_details.groupby('room_type')['price'].mean()"
   ]
  },
  {
   "cell_type": "code",
   "execution_count": 112,
   "metadata": {},
   "outputs": [
    {
     "data": {
      "text/html": [
       "<div>\n",
       "<style scoped>\n",
       "    .dataframe tbody tr th:only-of-type {\n",
       "        vertical-align: middle;\n",
       "    }\n",
       "\n",
       "    .dataframe tbody tr th {\n",
       "        vertical-align: top;\n",
       "    }\n",
       "\n",
       "    .dataframe thead th {\n",
       "        text-align: right;\n",
       "    }\n",
       "</style>\n",
       "<table border=\"1\" class=\"dataframe\">\n",
       "  <thead>\n",
       "    <tr style=\"text-align: right;\">\n",
       "      <th></th>\n",
       "      <th>Room Type</th>\n",
       "      <th>Number of Listings</th>\n",
       "      <th>Percent of Total</th>\n",
       "    </tr>\n",
       "  </thead>\n",
       "  <tbody>\n",
       "    <tr>\n",
       "      <th>0</th>\n",
       "      <td>Entire home/apt</td>\n",
       "      <td>9090</td>\n",
       "      <td>77.05</td>\n",
       "    </tr>\n",
       "    <tr>\n",
       "      <th>1</th>\n",
       "      <td>Private room</td>\n",
       "      <td>2575</td>\n",
       "      <td>21.83</td>\n",
       "    </tr>\n",
       "    <tr>\n",
       "      <th>2</th>\n",
       "      <td>Shared room</td>\n",
       "      <td>76</td>\n",
       "      <td>0.64</td>\n",
       "    </tr>\n",
       "    <tr>\n",
       "      <th>3</th>\n",
       "      <td>Hotel room</td>\n",
       "      <td>56</td>\n",
       "      <td>0.47</td>\n",
       "    </tr>\n",
       "  </tbody>\n",
       "</table>\n",
       "</div>"
      ],
      "text/plain": [
       "         Room Type  Number of Listings  Percent of Total\n",
       "0  Entire home/apt                9090             77.05\n",
       "1     Private room                2575             21.83\n",
       "2      Shared room                  76              0.64\n",
       "3       Hotel room                  56              0.47"
      ]
     },
     "execution_count": 112,
     "metadata": {},
     "output_type": "execute_result"
    }
   ],
   "source": [
    "# dataframe with basics statistics\n",
    "basic_listings_stats"
   ]
  },
  {
   "attachments": {},
   "cell_type": "markdown",
   "metadata": {},
   "source": [
    "**Conclusions**:\n",
    "* There are 11.797 listings on Airbnb for Vienna. The majority, around 77% are entire homes or departments. 22% are private rooms. You are likely to get an entire home or a department for less than € 100,- for a night.\n",
    "* Shared rooms and hotel rooms are both below 1%, and therefore play a negligible role.\n"
   ]
  },
  {
   "attachments": {},
   "cell_type": "markdown",
   "metadata": {},
   "source": [
    "### Hosts Statistics\n",
    "How many hosts offer their listings on Airbnb? Are there more hosts which offer a single listing or hosts which offer multiple listings on Airbnb? "
   ]
  },
  {
   "cell_type": "code",
   "execution_count": 97,
   "metadata": {},
   "outputs": [
    {
     "name": "stdout",
     "output_type": "stream",
     "text": [
      "Number of Hosts:  6514\n",
      "Number of Hosts:  6514\n",
      "Number of Listings:  11797\n",
      "Number of Listings:  11797\n"
     ]
    }
   ],
   "source": [
    "# print number of hosts and listings with consistency checks\n",
    "print('Number of Hosts: ', df_listings_details['host_id'].nunique())\n",
    "print('Number of Hosts: ', df_listings_counts['host_id'].shape[0]) # check if consistent\n",
    "print('Number of Listings: ', df_listings_details['id'].nunique())\n",
    "print('Number of Listings: ', sum(df_listings_counts['calculated_host_listings_count'])) # check if consistent"
   ]
  },
  {
   "cell_type": "code",
   "execution_count": 98,
   "metadata": {},
   "outputs": [
    {
     "name": "stdout",
     "output_type": "stream",
     "text": [
      "Number of hosts with a single listing:  5170\n"
     ]
    }
   ],
   "source": [
    "# show number of hosts with 1 listing\n",
    "print('Number of hosts with a single listing: ', df_listings_counts_sorted['calculated_host_listings_count'].value_counts().iloc[0])"
   ]
  },
  {
   "cell_type": "code",
   "execution_count": 99,
   "metadata": {},
   "outputs": [
    {
     "name": "stdout",
     "output_type": "stream",
     "text": [
      "Number of listings (host with most listings):  209\n",
      "Number of listings (host with second most listings):  123\n"
     ]
    }
   ],
   "source": [
    "# show number of listing for the host with most listings\n",
    "print('Number of listings (host with most listings): ', df_listings_counts_sorted['calculated_host_listings_count'].iloc[0])\n",
    "print('Number of listings (host with second most listings): ', df_listings_counts_sorted['calculated_host_listings_count'].iloc[1])"
   ]
  },
  {
   "cell_type": "code",
   "execution_count": 121,
   "metadata": {},
   "outputs": [
    {
     "data": {
      "text/plain": [
       "0         4\n",
       "1         3\n",
       "2        15\n",
       "3         4\n",
       "6         3\n",
       "         ..\n",
       "11790     1\n",
       "11791     1\n",
       "11792     1\n",
       "11793     1\n",
       "11795     1\n",
       "Name: calculated_host_listings_count, Length: 6514, dtype: int64"
      ]
     },
     "execution_count": 121,
     "metadata": {},
     "output_type": "execute_result"
    }
   ],
   "source": [
    "df_listings_counts['calculated_host_listings_count']"
   ]
  },
  {
   "cell_type": "code",
   "execution_count": 100,
   "metadata": {},
   "outputs": [],
   "source": [
    "# prepare data for pie plot\n",
    "df_pie_0_4 = df_listings_counts['calculated_host_listings_count'].value_counts()[:4]\n",
    "df_pie_4_ = df_listings_counts['calculated_host_listings_count'].value_counts()[4:].sum()"
   ]
  },
  {
   "cell_type": "code",
   "execution_count": 101,
   "metadata": {},
   "outputs": [
    {
     "data": {
      "image/png": "[encoded data removed]"
     },
     "metadata": {},
     "output_type": "display_data"
    }
   ],
   "source": [
    "# pie plot for number of listings per host\n",
    "names = ['# of listings: ' + str(df_pie_0_4.index[i]) for i in range(4)]\n",
    "names.append('# of listings: >=5')\n",
    "fig = px.pie(values=np.append(df_pie_0_4.values, df_pie_4_), names=names, width=800, height=400)\n",
    "fig.update_traces(sort=False, selector=dict(type='pie'))\n",
    "fig.show()"
   ]
  },
  {
   "cell_type": "code",
   "execution_count": 102,
   "metadata": {},
   "outputs": [
    {
     "name": "stdout",
     "output_type": "stream",
     "text": [
      "Number of hosts:  6514\n"
     ]
    }
   ],
   "source": [
    "# plot number of hosts\n",
    "print('Number of hosts: ', df_listings_counts['host_id'].nunique())\n"
   ]
  },
  {
   "cell_type": "code",
   "execution_count": 103,
   "metadata": {},
   "outputs": [
    {
     "data": {
      "image/png": "[encoded data removed]"
     },
     "metadata": {},
     "output_type": "display_data"
    }
   ],
   "source": [
    "# plot number of listings vs host id\n",
    "\n",
    "fig = make_subplots(rows=1, cols=2, shared_yaxes=False)\n",
    "\n",
    "fig.add_trace(go.Scatter(y=df_listings_counts_sorted['calculated_host_listings_count'], marker_color='#636EFA'), 1, 1)\n",
    "fig.add_trace(go.Scatter(y=df_listings_counts_sorted['calculated_host_listings_count'], marker_color='#636EFA'), 1, 2)\n",
    "\n",
    "fig.update_xaxes(title_text=\"Host ID (arb)\", row=1, col=1)\n",
    "fig.update_xaxes(title_text=\"Host ID (arb), zoom 1 to 100)\", row=1, col=2)\n",
    "fig.update_xaxes(range=[-250, df_listings_counts['host_id'].shape[0]], row=1, col=1)\n",
    "fig.update_xaxes(range=[-5, 100], row=1, col=2)\n",
    "b\n",
    "fig.update_yaxes(title_text=\"Number of listings per host (log-scale)\", type=\"log\", tickvals=[0, 1, 10, 100],  row=1, col=1)\n",
    "fig.update_yaxes(title_text=\"Number of listings per host\", row=1, col=2)\n",
    "\n",
    "fig.update_layout(showlegend=False)\n",
    "fig.update_layout(autosize=False, width=1000, height=500)\n",
    "fig.show()"
   ]
  },
  {
   "cell_type": "code",
   "execution_count": 143,
   "metadata": {},
   "outputs": [
    {
     "name": "stdout",
     "output_type": "stream",
     "text": [
      "Total number of listings from hosts with >=5 listings:  4076\n",
      "Total number of listings from hosts with 1 listing:  5170\n"
     ]
    }
   ],
   "source": [
    "print('Total number of listings from hosts with >=5 listings: ', sum(df_listings_counts_sorted[df_listings_counts_sorted['calculated_host_listings_count'] >=5]['calculated_host_listings_count']))\n",
    "print('Total number of listings from hosts with 1 listing: ', sum(df_listings_counts_sorted[df_listings_counts_sorted['calculated_host_listings_count'] ==1]['calculated_host_listings_count']))"
   ]
  },
  {
   "attachments": {},
   "cell_type": "markdown",
   "metadata": {},
   "source": [
    "**Conclusions:**\n",
    "* 6.514 hosts offer their homes or departments on Airbnb. 79,4% of the hosts just offer a single listing. 4,71% of the hosts offer 5 listings or more.\n",
    "* There is number of hosts which offer quit a large number of listings. One host offers even a number of 209 listings. The second largest number of listings are 123 from a single host.\n",
    "* The hosts with 5 or more listing offer altogether a total number of 4.076 listings, where the hosts with just one listing offer a total number of 5.170 listings."
   ]
  },
  {
   "attachments": {},
   "cell_type": "markdown",
   "metadata": {},
   "source": [
    "### Private vs. Professional Hosts\n",
    "Are there any obvious differences in the listings attributes (e.g. prices, review ratings), comparing the single host listings with the listings from hosts with multiple offers?"
   ]
  },
  {
   "cell_type": "code",
   "execution_count": 104,
   "metadata": {},
   "outputs": [],
   "source": [
    "# prepare a dataframe for the plots\n",
    "professional_vs_private_melted = pd.melt(professional_vs_private, id_vars=['metric'], value_vars=['professional_hosts', 'private_hosts'], var_name='host_type')"
   ]
  },
  {
   "cell_type": "code",
   "execution_count": 149,
   "metadata": {},
   "outputs": [
    {
     "data": {
      "image/png": "[encoded data removed]"
     },
     "metadata": {},
     "output_type": "display_data"
    }
   ],
   "source": [
    "# plot professional vs private host comparison\n",
    "\n",
    "columns = ['number_of_hosts', 'total_listings', 'mean_price', 'mean_availability', 'review_scores_rating']\n",
    "plot_titles = ['Number of hosts', 'Total number of listings', 'Price in € (mean)', 'Availability (mean, 365d)', 'Review score (mean)']\n",
    "host_types = ['professional_hosts', 'private_hosts']\n",
    "\n",
    "fig = make_subplots(rows=2, cols=3, shared_yaxes=False, subplot_titles=plot_titles)\n",
    "\n",
    "fig.add_trace(go.Bar(y=professional_vs_private_melted[(professional_vs_private_melted['metric'] == columns[0])\n",
    "                        & (professional_vs_private_melted['host_type'] == host_types[0])]['value'], marker_color='#636EFA',\n",
    "                        name=host_types[0], legendgroup='group1', showlegend=True), 1, 1)\n",
    "fig.add_trace(go.Bar(y=professional_vs_private_melted[(professional_vs_private_melted['metric'] == columns[0])\n",
    "                        & (professional_vs_private_melted['host_type'] == host_types[1])]['value'], marker_color='#EF553B',\n",
    "                        name=host_types[1], legendgroup='group2', showlegend=True), 1, 1)\n",
    "\n",
    "fig.add_trace(go.Bar(y=professional_vs_private_melted[(professional_vs_private_melted['metric'] == columns[1])\n",
    "                        & (professional_vs_private_melted['host_type'] == host_types[0])]['value'], marker_color='#636EFA',\n",
    "                        name=host_types[0], legendgroup='group1', showlegend=False), 1, 2)\n",
    "fig.add_trace(go.Bar(y=professional_vs_private_melted[(professional_vs_private_melted['metric'] == columns[1])\n",
    "                        & (professional_vs_private_melted['host_type'] == host_types[1])]['value'], marker_color='#EF553B',\n",
    "                        name=host_types[1], legendgroup='group2', showlegend=False), 1, 2)\n",
    "\n",
    "fig.add_trace(go.Bar(y=professional_vs_private_melted[(professional_vs_private_melted['metric'] == columns[2])\n",
    "                        & (professional_vs_private_melted['host_type'] == host_types[0])]['value'], marker_color='#636EFA',\n",
    "                        name=host_types[0], legendgroup='group1', showlegend=False),1, 3)\n",
    "fig.add_trace(go.Bar(y=professional_vs_private_melted[(professional_vs_private_melted['metric'] == columns[2])\n",
    "                        & (professional_vs_private_melted['host_type'] == host_types[1])]['value'], marker_color='#EF553B',\n",
    "                        name=host_types[1], legendgroup='group2', showlegend=False), 1, 3)\n",
    "\n",
    "fig.add_trace(go.Bar(y=professional_vs_private_melted[(professional_vs_private_melted['metric'] == columns[3])\n",
    "                        & (professional_vs_private_melted['host_type'] == host_types[0])]['value'], marker_color='#636EFA',\n",
    "                        name=host_types[0], legendgroup='group1', showlegend=False), 2, 1)\n",
    "fig.add_trace(go.Bar(y=professional_vs_private_melted[(professional_vs_private_melted['metric'] == columns[3])\n",
    "                        & (professional_vs_private_melted['host_type'] == host_types[1])]['value'], marker_color='#EF553B',\n",
    "                        name=host_types[1], legendgroup='group2', showlegend=False), 2, 1)\n",
    "                        \n",
    "fig.add_trace(go.Bar(y=professional_vs_private_melted[(professional_vs_private_melted['metric'] == columns[4])\n",
    "                        & (professional_vs_private_melted['host_type'] == host_types[0])]['value'], marker_color='#636EFA',\n",
    "                        name=host_types[0], legendgroup='group1', showlegend=False), 2, 2)\n",
    "fig.add_trace(go.Bar(y=professional_vs_private_melted[(professional_vs_private_melted['metric'] == columns[4])\n",
    "                        & (professional_vs_private_melted['host_type'] == host_types[1])]['value'], marker_color='#EF553B',\n",
    "                        name=host_types[1], legendgroup='group2', showlegend=False), 2, 2)\n",
    "                        \n",
    "fig.update_xaxes(visible=False)\n",
    "fig.update_layout(showlegend=True)\n",
    "fig.update_layout(autosize=False, width=1000, height=600)\n",
    "fig.update_layout(legend=dict(y=0.20, x=0.70, font=dict(size=20)))\n",
    "fig.show()"
   ]
  },
  {
   "attachments": {},
   "cell_type": "markdown",
   "metadata": {},
   "source": [
    "**Conclusions:**\n",
    "* There are approximately the same number of homes or apartments offered by private hosts and by professional hosts.\n",
    "* Where as the mean review scores are approximately similar for homes or departments from private and professional hosts, there are differences in the availability and the price."
   ]
  }
 ],
 "metadata": {
  "kernelspec": {
   "display_name": "Python 3 (ipykernel)",
   "language": "python",
   "name": "python3"
  },
  "language_info": {
   "codemirror_mode": {
    "name": "ipython",
    "version": 3
   },
   "file_extension": ".py",
   "mimetype": "text/x-python",
   "name": "python",
   "nbconvert_exporter": "python",
   "pygments_lexer": "ipython3",
   "version": "3.9.13"
  },
  "vscode": {
   "interpreter": {
    "hash": "ecf48022edf02ba26bd312ec4a6ef2d705f70b47ca88bc5f7f1f524290a7fd46"
   }
  }
 },
 "nbformat": 4,
 "nbformat_minor": 2
}
